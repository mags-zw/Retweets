{
 "cells": [
  {
   "cell_type": "code",
   "execution_count": 198,
   "metadata": {},
   "outputs": [],
   "source": [
    "import pandas as pd\n",
    "import numpy as np\n",
    "import statsmodels.formula.api as sm\n",
    "import matplotlib.pyplot as plt\n",
    "import seaborn as sns\n",
    "from sklearn.feature_extraction.text import CountVectorizer\n",
    "%matplotlib inline\n",
    "%config InlineBackend.figure_format = 'retina'\n",
    "pd.set_option('display.max_columns', None)\n",
    "pd.options.display.float_format = '{:.2f}'.format"
   ]
  },
  {
   "cell_type": "code",
   "execution_count": 128,
   "metadata": {},
   "outputs": [],
   "source": [
    "tweets = pd.read_excel(\"/Users/Mags/Desktop/DATA SCIENCE/Retweets/tweets.xlsx\")"
   ]
  },
  {
   "cell_type": "markdown",
   "metadata": {},
   "source": [
    "EDA"
   ]
  },
  {
   "cell_type": "code",
   "execution_count": 129,
   "metadata": {},
   "outputs": [
    {
     "data": {
      "text/html": [
       "<div>\n",
       "<table border=\"1\" class=\"dataframe\">\n",
       "  <thead>\n",
       "    <tr style=\"text-align: right;\">\n",
       "      <th></th>\n",
       "      <th>TweetPostedTime</th>\n",
       "      <th>TweetID</th>\n",
       "      <th>TweetBody</th>\n",
       "      <th>TweetRetweetFlag</th>\n",
       "      <th>TweetSource</th>\n",
       "      <th>TweetInReplyToStatusID</th>\n",
       "      <th>TweetInReplyToUserID</th>\n",
       "      <th>TweetInReplyToScreenName</th>\n",
       "      <th>TweetRetweetCount</th>\n",
       "      <th>TweetFavoritesCount</th>\n",
       "      <th>TweetHashtags</th>\n",
       "      <th>TweetPlaceID</th>\n",
       "      <th>TweetPlaceName</th>\n",
       "      <th>TweetPlaceFullName</th>\n",
       "      <th>TweetCountry</th>\n",
       "      <th>TweetPlaceBoundingBox</th>\n",
       "      <th>TweetPlaceAttributes</th>\n",
       "      <th>TweetPlaceContainedWithin</th>\n",
       "      <th>UserID</th>\n",
       "      <th>UserName</th>\n",
       "      <th>UserScreenName</th>\n",
       "      <th>UserLocation</th>\n",
       "      <th>UserDescription</th>\n",
       "      <th>UserLink</th>\n",
       "      <th>UserExpandedLink</th>\n",
       "      <th>UserFollowersCount</th>\n",
       "      <th>UserFriendsCount</th>\n",
       "      <th>UserListedCount</th>\n",
       "      <th>UserSignupDate</th>\n",
       "      <th>UserTweetCount</th>\n",
       "      <th>MacroIterationNumber</th>\n",
       "      <th>tweet.place</th>\n",
       "    </tr>\n",
       "  </thead>\n",
       "  <tbody>\n",
       "    <tr>\n",
       "      <th>0</th>\n",
       "      <td>Tue Dec 20 10:57:00 +0000 2016</td>\n",
       "      <td>811163485052817408</td>\n",
       "      <td>RT @BeachyMaldives: Local interaction is a gre...</td>\n",
       "      <td>True</td>\n",
       "      <td>&lt;a href=\"http://twitter.com/download/iphone\" r...</td>\n",
       "      <td>NaN</td>\n",
       "      <td>NaN</td>\n",
       "      <td>NaN</td>\n",
       "      <td>1</td>\n",
       "      <td>0</td>\n",
       "      <td>Maldives, vacation, travel</td>\n",
       "      <td>NaN</td>\n",
       "      <td>NaN</td>\n",
       "      <td>NaN</td>\n",
       "      <td>NaN</td>\n",
       "      <td>NaN</td>\n",
       "      <td>NaN</td>\n",
       "      <td>NaN</td>\n",
       "      <td>3325724261</td>\n",
       "      <td>CjQenterprises</td>\n",
       "      <td>CjQenterprises</td>\n",
       "      <td>United States</td>\n",
       "      <td>Pls donate 2 https://t.co/RvOUK9lAWI #YearEndG...</td>\n",
       "      <td>https://t.co/jghZVBsiQF</td>\n",
       "      <td>http://cjqenterprises.com</td>\n",
       "      <td>6334</td>\n",
       "      <td>6144</td>\n",
       "      <td>1917</td>\n",
       "      <td>Sun Jun 14 22:36:15 +0000 2015</td>\n",
       "      <td>33556</td>\n",
       "      <td>0</td>\n",
       "      <td>NaN</td>\n",
       "    </tr>\n",
       "    <tr>\n",
       "      <th>1</th>\n",
       "      <td>Tue Dec 20 10:56:59 +0000 2016</td>\n",
       "      <td>811163483463122944</td>\n",
       "      <td>RT @TechTerraEd: Need #giftideas for your kid(...</td>\n",
       "      <td>True</td>\n",
       "      <td>&lt;a href=\"http://twitter.com/download/iphone\" r...</td>\n",
       "      <td>NaN</td>\n",
       "      <td>NaN</td>\n",
       "      <td>NaN</td>\n",
       "      <td>1</td>\n",
       "      <td>0</td>\n",
       "      <td>giftideas, holiday</td>\n",
       "      <td>NaN</td>\n",
       "      <td>NaN</td>\n",
       "      <td>NaN</td>\n",
       "      <td>NaN</td>\n",
       "      <td>NaN</td>\n",
       "      <td>NaN</td>\n",
       "      <td>NaN</td>\n",
       "      <td>101222953</td>\n",
       "      <td>monica</td>\n",
       "      <td>mama0004</td>\n",
       "      <td>durham  nc</td>\n",
       "      <td>Educator of students with special needs, Mothe...</td>\n",
       "      <td>NaN</td>\n",
       "      <td>NaN</td>\n",
       "      <td>154</td>\n",
       "      <td>371</td>\n",
       "      <td>180</td>\n",
       "      <td>Sat Jan 02 13:36:23 +0000 2010</td>\n",
       "      <td>3201</td>\n",
       "      <td>0</td>\n",
       "      <td>NaN</td>\n",
       "    </tr>\n",
       "    <tr>\n",
       "      <th>2</th>\n",
       "      <td>Tue Dec 20 10:56:55 +0000 2016</td>\n",
       "      <td>811163466387988480</td>\n",
       "      <td>Seven Questions Before Choosing a Cruise Line ...</td>\n",
       "      <td>False</td>\n",
       "      <td>&lt;a href=\"http://www.google.com/\" rel=\"nofollow...</td>\n",
       "      <td>NaN</td>\n",
       "      <td>NaN</td>\n",
       "      <td>NaN</td>\n",
       "      <td>0</td>\n",
       "      <td>0</td>\n",
       "      <td>travel, TTOT</td>\n",
       "      <td>NaN</td>\n",
       "      <td>NaN</td>\n",
       "      <td>NaN</td>\n",
       "      <td>NaN</td>\n",
       "      <td>NaN</td>\n",
       "      <td>NaN</td>\n",
       "      <td>NaN</td>\n",
       "      <td>42725028</td>\n",
       "      <td>Paula Schuck</td>\n",
       "      <td>inkscrblr</td>\n",
       "      <td>Canada</td>\n",
       "      <td>Thrifty Mom Media social media consulting and ...</td>\n",
       "      <td>https://t.co/cEhGzaQJp6</td>\n",
       "      <td>http://www.thriftymommastips.com/</td>\n",
       "      <td>23433</td>\n",
       "      <td>24762</td>\n",
       "      <td>961</td>\n",
       "      <td>Tue May 26 21:26:09 +0000 2009</td>\n",
       "      <td>147958</td>\n",
       "      <td>0</td>\n",
       "      <td>NaN</td>\n",
       "    </tr>\n",
       "    <tr>\n",
       "      <th>3</th>\n",
       "      <td>Tue Dec 20 10:56:55 +0000 2016</td>\n",
       "      <td>811163465125679104</td>\n",
       "      <td>RT @CMGsportsclub: Yoga do Brasil, un havre de...</td>\n",
       "      <td>True</td>\n",
       "      <td>&lt;a href=\"https://roundteam.co\" rel=\"nofollow\"&gt;...</td>\n",
       "      <td>NaN</td>\n",
       "      <td>NaN</td>\n",
       "      <td>NaN</td>\n",
       "      <td>1</td>\n",
       "      <td>0</td>\n",
       "      <td>yoga, bresil, meditation, holiday</td>\n",
       "      <td>NaN</td>\n",
       "      <td>NaN</td>\n",
       "      <td>NaN</td>\n",
       "      <td>NaN</td>\n",
       "      <td>NaN</td>\n",
       "      <td>NaN</td>\n",
       "      <td>NaN</td>\n",
       "      <td>3541532718</td>\n",
       "      <td>Primal Sanctuary</td>\n",
       "      <td>primalsanctuary</td>\n",
       "      <td>Cypress, Texas, USA</td>\n",
       "      <td>Adventure travel, yoga, paleo, Crossfit, runni...</td>\n",
       "      <td>https://t.co/3IHwXkgAkA</td>\n",
       "      <td>https://primalsanctuary.com</td>\n",
       "      <td>11136</td>\n",
       "      <td>10081</td>\n",
       "      <td>978</td>\n",
       "      <td>Sat Sep 12 20:29:18 +0000 2015</td>\n",
       "      <td>28988</td>\n",
       "      <td>0</td>\n",
       "      <td>NaN</td>\n",
       "    </tr>\n",
       "    <tr>\n",
       "      <th>4</th>\n",
       "      <td>Tue Dec 20 10:56:53 +0000 2016</td>\n",
       "      <td>811163457508642817</td>\n",
       "      <td>RT @StylishRentals: Love this! \"Palm Springs M...</td>\n",
       "      <td>True</td>\n",
       "      <td>&lt;a href=\"http://twitter.com\" rel=\"nofollow\"&gt;Tw...</td>\n",
       "      <td>NaN</td>\n",
       "      <td>NaN</td>\n",
       "      <td>NaN</td>\n",
       "      <td>3065</td>\n",
       "      <td>0</td>\n",
       "      <td>Travel</td>\n",
       "      <td>NaN</td>\n",
       "      <td>NaN</td>\n",
       "      <td>NaN</td>\n",
       "      <td>NaN</td>\n",
       "      <td>NaN</td>\n",
       "      <td>NaN</td>\n",
       "      <td>NaN</td>\n",
       "      <td>773556998034063360</td>\n",
       "      <td>Joe</td>\n",
       "      <td>biryukovasever2</td>\n",
       "      <td>Providence</td>\n",
       "      <td>I really have got giant ambitions. I start com...</td>\n",
       "      <td>NaN</td>\n",
       "      <td>NaN</td>\n",
       "      <td>55</td>\n",
       "      <td>21</td>\n",
       "      <td>31</td>\n",
       "      <td>Wed Sep 07 16:22:15 +0000 2016</td>\n",
       "      <td>19581</td>\n",
       "      <td>0</td>\n",
       "      <td>NaN</td>\n",
       "    </tr>\n",
       "  </tbody>\n",
       "</table>\n",
       "</div>"
      ],
      "text/plain": [
       "                  TweetPostedTime             TweetID  \\\n",
       "0  Tue Dec 20 10:57:00 +0000 2016  811163485052817408   \n",
       "1  Tue Dec 20 10:56:59 +0000 2016  811163483463122944   \n",
       "2  Tue Dec 20 10:56:55 +0000 2016  811163466387988480   \n",
       "3  Tue Dec 20 10:56:55 +0000 2016  811163465125679104   \n",
       "4  Tue Dec 20 10:56:53 +0000 2016  811163457508642817   \n",
       "\n",
       "                                           TweetBody TweetRetweetFlag  \\\n",
       "0  RT @BeachyMaldives: Local interaction is a gre...             True   \n",
       "1  RT @TechTerraEd: Need #giftideas for your kid(...             True   \n",
       "2  Seven Questions Before Choosing a Cruise Line ...            False   \n",
       "3  RT @CMGsportsclub: Yoga do Brasil, un havre de...             True   \n",
       "4  RT @StylishRentals: Love this! \"Palm Springs M...             True   \n",
       "\n",
       "                                         TweetSource  TweetInReplyToStatusID  \\\n",
       "0  <a href=\"http://twitter.com/download/iphone\" r...                     NaN   \n",
       "1  <a href=\"http://twitter.com/download/iphone\" r...                     NaN   \n",
       "2  <a href=\"http://www.google.com/\" rel=\"nofollow...                     NaN   \n",
       "3  <a href=\"https://roundteam.co\" rel=\"nofollow\">...                     NaN   \n",
       "4  <a href=\"http://twitter.com\" rel=\"nofollow\">Tw...                     NaN   \n",
       "\n",
       "   TweetInReplyToUserID TweetInReplyToScreenName  TweetRetweetCount  \\\n",
       "0                   NaN                      NaN                  1   \n",
       "1                   NaN                      NaN                  1   \n",
       "2                   NaN                      NaN                  0   \n",
       "3                   NaN                      NaN                  1   \n",
       "4                   NaN                      NaN               3065   \n",
       "\n",
       "   TweetFavoritesCount                      TweetHashtags TweetPlaceID  \\\n",
       "0                    0         Maldives, vacation, travel          NaN   \n",
       "1                    0                 giftideas, holiday          NaN   \n",
       "2                    0                       travel, TTOT          NaN   \n",
       "3                    0  yoga, bresil, meditation, holiday          NaN   \n",
       "4                    0                             Travel          NaN   \n",
       "\n",
       "  TweetPlaceName TweetPlaceFullName TweetCountry TweetPlaceBoundingBox  \\\n",
       "0            NaN                NaN          NaN                   NaN   \n",
       "1            NaN                NaN          NaN                   NaN   \n",
       "2            NaN                NaN          NaN                   NaN   \n",
       "3            NaN                NaN          NaN                   NaN   \n",
       "4            NaN                NaN          NaN                   NaN   \n",
       "\n",
       "   TweetPlaceAttributes  TweetPlaceContainedWithin              UserID  \\\n",
       "0                   NaN                        NaN          3325724261   \n",
       "1                   NaN                        NaN           101222953   \n",
       "2                   NaN                        NaN            42725028   \n",
       "3                   NaN                        NaN          3541532718   \n",
       "4                   NaN                        NaN  773556998034063360   \n",
       "\n",
       "           UserName   UserScreenName         UserLocation  \\\n",
       "0    CjQenterprises   CjQenterprises        United States   \n",
       "1            monica         mama0004           durham  nc   \n",
       "2      Paula Schuck        inkscrblr               Canada   \n",
       "3  Primal Sanctuary  primalsanctuary  Cypress, Texas, USA   \n",
       "4               Joe  biryukovasever2           Providence   \n",
       "\n",
       "                                     UserDescription                 UserLink  \\\n",
       "0  Pls donate 2 https://t.co/RvOUK9lAWI #YearEndG...  https://t.co/jghZVBsiQF   \n",
       "1  Educator of students with special needs, Mothe...                      NaN   \n",
       "2  Thrifty Mom Media social media consulting and ...  https://t.co/cEhGzaQJp6   \n",
       "3  Adventure travel, yoga, paleo, Crossfit, runni...  https://t.co/3IHwXkgAkA   \n",
       "4  I really have got giant ambitions. I start com...                      NaN   \n",
       "\n",
       "                    UserExpandedLink  UserFollowersCount  UserFriendsCount  \\\n",
       "0          http://cjqenterprises.com                6334              6144   \n",
       "1                                NaN                 154               371   \n",
       "2  http://www.thriftymommastips.com/               23433             24762   \n",
       "3        https://primalsanctuary.com               11136             10081   \n",
       "4                                NaN                  55                21   \n",
       "\n",
       "   UserListedCount                  UserSignupDate  UserTweetCount  \\\n",
       "0             1917  Sun Jun 14 22:36:15 +0000 2015           33556   \n",
       "1              180  Sat Jan 02 13:36:23 +0000 2010            3201   \n",
       "2              961  Tue May 26 21:26:09 +0000 2009          147958   \n",
       "3              978  Sat Sep 12 20:29:18 +0000 2015           28988   \n",
       "4               31  Wed Sep 07 16:22:15 +0000 2016           19581   \n",
       "\n",
       "   MacroIterationNumber tweet.place  \n",
       "0                     0         NaN  \n",
       "1                     0         NaN  \n",
       "2                     0         NaN  \n",
       "3                     0         NaN  \n",
       "4                     0         NaN  "
      ]
     },
     "execution_count": 129,
     "metadata": {},
     "output_type": "execute_result"
    }
   ],
   "source": [
    "tweets.head(5)"
   ]
  },
  {
   "cell_type": "code",
   "execution_count": 130,
   "metadata": {},
   "outputs": [
    {
     "data": {
      "text/html": [
       "<div>\n",
       "<table border=\"1\" class=\"dataframe\">\n",
       "  <thead>\n",
       "    <tr style=\"text-align: right;\">\n",
       "      <th></th>\n",
       "      <th>TweetPostedTime</th>\n",
       "      <th>TweetID</th>\n",
       "      <th>TweetBody</th>\n",
       "      <th>TweetRetweetFlag</th>\n",
       "      <th>TweetSource</th>\n",
       "      <th>TweetInReplyToStatusID</th>\n",
       "      <th>TweetInReplyToUserID</th>\n",
       "      <th>TweetInReplyToScreenName</th>\n",
       "      <th>TweetRetweetCount</th>\n",
       "      <th>TweetFavoritesCount</th>\n",
       "      <th>TweetHashtags</th>\n",
       "      <th>TweetPlaceID</th>\n",
       "      <th>TweetPlaceName</th>\n",
       "      <th>TweetPlaceFullName</th>\n",
       "      <th>TweetCountry</th>\n",
       "      <th>TweetPlaceBoundingBox</th>\n",
       "      <th>TweetPlaceAttributes</th>\n",
       "      <th>TweetPlaceContainedWithin</th>\n",
       "      <th>UserID</th>\n",
       "      <th>UserName</th>\n",
       "      <th>UserScreenName</th>\n",
       "      <th>UserLocation</th>\n",
       "      <th>UserDescription</th>\n",
       "      <th>UserLink</th>\n",
       "      <th>UserExpandedLink</th>\n",
       "      <th>UserFollowersCount</th>\n",
       "      <th>UserFriendsCount</th>\n",
       "      <th>UserListedCount</th>\n",
       "      <th>UserSignupDate</th>\n",
       "      <th>UserTweetCount</th>\n",
       "      <th>MacroIterationNumber</th>\n",
       "      <th>tweet.place</th>\n",
       "    </tr>\n",
       "  </thead>\n",
       "  <tbody>\n",
       "    <tr>\n",
       "      <th>42363</th>\n",
       "      <td>Tue Dec 20 00:25:13 +0000 2016</td>\n",
       "      <td>811004491378073600</td>\n",
       "      <td>#BusinessInsider Your Money #Travel The Bigges...</td>\n",
       "      <td>False</td>\n",
       "      <td>&lt;a href=\"http://www.hootsuite.com\" rel=\"nofoll...</td>\n",
       "      <td>NaN</td>\n",
       "      <td>NaN</td>\n",
       "      <td>NaN</td>\n",
       "      <td>0</td>\n",
       "      <td>0</td>\n",
       "      <td>BusinessInsider, Travel, Vacation</td>\n",
       "      <td>NaN</td>\n",
       "      <td>NaN</td>\n",
       "      <td>NaN</td>\n",
       "      <td>NaN</td>\n",
       "      <td>NaN</td>\n",
       "      <td>NaN</td>\n",
       "      <td>NaN</td>\n",
       "      <td>103708562</td>\n",
       "      <td>Andy Marcolin</td>\n",
       "      <td>AndyMarcolin</td>\n",
       "      <td>ÜT: 43.484417,-79.720563</td>\n",
       "      <td>- Owner of - QB Sports and The Judge &amp; Jury - ...</td>\n",
       "      <td>http://t.co/aUs1RvWTzE</td>\n",
       "      <td>http://www.bostonmanor.ca/</td>\n",
       "      <td>537</td>\n",
       "      <td>170</td>\n",
       "      <td>90</td>\n",
       "      <td>Mon Jan 11 00:36:46 +0000 2010</td>\n",
       "      <td>22170</td>\n",
       "      <td>449</td>\n",
       "      <td>NaN</td>\n",
       "    </tr>\n",
       "    <tr>\n",
       "      <th>42364</th>\n",
       "      <td>Tue Dec 20 00:25:12 +0000 2016</td>\n",
       "      <td>811004490300223492</td>\n",
       "      <td>.@jessicaparsons @brokegirlsdiary #rockstar #D...</td>\n",
       "      <td>False</td>\n",
       "      <td>&lt;a href=\"http://www.facebook.com/twitter\" rel=...</td>\n",
       "      <td>NaN</td>\n",
       "      <td>NaN</td>\n",
       "      <td>NaN</td>\n",
       "      <td>0</td>\n",
       "      <td>0</td>\n",
       "      <td>rockstar, DedicatedTalent, actress, blogger, d...</td>\n",
       "      <td>NaN</td>\n",
       "      <td>NaN</td>\n",
       "      <td>NaN</td>\n",
       "      <td>NaN</td>\n",
       "      <td>NaN</td>\n",
       "      <td>NaN</td>\n",
       "      <td>NaN</td>\n",
       "      <td>2807981322</td>\n",
       "      <td>Dedicated Talent</td>\n",
       "      <td>DedicatedTalent</td>\n",
       "      <td>Los Angeles</td>\n",
       "      <td>Talent | Literary | Production</td>\n",
       "      <td>https://t.co/6g3HhXQBkh</td>\n",
       "      <td>https://pro-labs.imdb.com/company/co0499796/</td>\n",
       "      <td>2635</td>\n",
       "      <td>1870</td>\n",
       "      <td>321</td>\n",
       "      <td>Sat Sep 13 19:18:55 +0000 2014</td>\n",
       "      <td>15266</td>\n",
       "      <td>449</td>\n",
       "      <td>NaN</td>\n",
       "    </tr>\n",
       "    <tr>\n",
       "      <th>42365</th>\n",
       "      <td>Tue Dec 20 00:25:12 +0000 2016</td>\n",
       "      <td>811004489813495808</td>\n",
       "      <td>RT @StylishRentals: Love this! \"Dragonfly Dese...</td>\n",
       "      <td>True</td>\n",
       "      <td>&lt;a href=\"http://twitter.com\" rel=\"nofollow\"&gt;Tw...</td>\n",
       "      <td>NaN</td>\n",
       "      <td>NaN</td>\n",
       "      <td>NaN</td>\n",
       "      <td>3043</td>\n",
       "      <td>0</td>\n",
       "      <td>Travel</td>\n",
       "      <td>NaN</td>\n",
       "      <td>NaN</td>\n",
       "      <td>NaN</td>\n",
       "      <td>NaN</td>\n",
       "      <td>NaN</td>\n",
       "      <td>NaN</td>\n",
       "      <td>NaN</td>\n",
       "      <td>771487629477023744</td>\n",
       "      <td>Raphael Cameron</td>\n",
       "      <td>FilatArtemev</td>\n",
       "      <td>NaN</td>\n",
       "      <td>udemy instructor, author, marketeer, into tech...</td>\n",
       "      <td>NaN</td>\n",
       "      <td>NaN</td>\n",
       "      <td>91</td>\n",
       "      <td>54</td>\n",
       "      <td>83</td>\n",
       "      <td>Thu Sep 01 23:19:19 +0000 2016</td>\n",
       "      <td>23419</td>\n",
       "      <td>449</td>\n",
       "      <td>NaN</td>\n",
       "    </tr>\n",
       "    <tr>\n",
       "      <th>42366</th>\n",
       "      <td>Tue Dec 20 00:25:12 +0000 2016</td>\n",
       "      <td>811004488932737024</td>\n",
       "      <td>RT @StylishRentals: Love this! \"Dragonfly Dese...</td>\n",
       "      <td>True</td>\n",
       "      <td>&lt;a href=\"http://twitter.com\" rel=\"nofollow\"&gt;Tw...</td>\n",
       "      <td>NaN</td>\n",
       "      <td>NaN</td>\n",
       "      <td>NaN</td>\n",
       "      <td>3043</td>\n",
       "      <td>0</td>\n",
       "      <td>Travel</td>\n",
       "      <td>NaN</td>\n",
       "      <td>NaN</td>\n",
       "      <td>NaN</td>\n",
       "      <td>NaN</td>\n",
       "      <td>NaN</td>\n",
       "      <td>NaN</td>\n",
       "      <td>NaN</td>\n",
       "      <td>771758637652074496</td>\n",
       "      <td>Sky Choi</td>\n",
       "      <td>tekusaaleksand2</td>\n",
       "      <td>NaN</td>\n",
       "      <td>Keep track of your cryptocurrencies and genera...</td>\n",
       "      <td>NaN</td>\n",
       "      <td>NaN</td>\n",
       "      <td>68</td>\n",
       "      <td>50</td>\n",
       "      <td>63</td>\n",
       "      <td>Fri Sep 02 17:16:12 +0000 2016</td>\n",
       "      <td>20737</td>\n",
       "      <td>449</td>\n",
       "      <td>NaN</td>\n",
       "    </tr>\n",
       "    <tr>\n",
       "      <th>42367</th>\n",
       "      <td>Tue Dec 20 00:25:12 +0000 2016</td>\n",
       "      <td>811004487737360384</td>\n",
       "      <td>RT @StylishRentals: Love this! \"Dragonfly Dese...</td>\n",
       "      <td>True</td>\n",
       "      <td>&lt;a href=\"http://twitter.com\" rel=\"nofollow\"&gt;Tw...</td>\n",
       "      <td>NaN</td>\n",
       "      <td>NaN</td>\n",
       "      <td>NaN</td>\n",
       "      <td>3043</td>\n",
       "      <td>0</td>\n",
       "      <td>Travel</td>\n",
       "      <td>NaN</td>\n",
       "      <td>NaN</td>\n",
       "      <td>NaN</td>\n",
       "      <td>NaN</td>\n",
       "      <td>NaN</td>\n",
       "      <td>NaN</td>\n",
       "      <td>NaN</td>\n",
       "      <td>771752634306981892</td>\n",
       "      <td>Brazil Harrison</td>\n",
       "      <td>AelitaFadeeva</td>\n",
       "      <td>NaN</td>\n",
       "      <td>ETHEREUM Foundation, project  community/ecosys...</td>\n",
       "      <td>NaN</td>\n",
       "      <td>NaN</td>\n",
       "      <td>213</td>\n",
       "      <td>51</td>\n",
       "      <td>50</td>\n",
       "      <td>Fri Sep 02 16:52:21 +0000 2016</td>\n",
       "      <td>23982</td>\n",
       "      <td>449</td>\n",
       "      <td>NaN</td>\n",
       "    </tr>\n",
       "  </tbody>\n",
       "</table>\n",
       "</div>"
      ],
      "text/plain": [
       "                      TweetPostedTime             TweetID  \\\n",
       "42363  Tue Dec 20 00:25:13 +0000 2016  811004491378073600   \n",
       "42364  Tue Dec 20 00:25:12 +0000 2016  811004490300223492   \n",
       "42365  Tue Dec 20 00:25:12 +0000 2016  811004489813495808   \n",
       "42366  Tue Dec 20 00:25:12 +0000 2016  811004488932737024   \n",
       "42367  Tue Dec 20 00:25:12 +0000 2016  811004487737360384   \n",
       "\n",
       "                                               TweetBody TweetRetweetFlag  \\\n",
       "42363  #BusinessInsider Your Money #Travel The Bigges...            False   \n",
       "42364  .@jessicaparsons @brokegirlsdiary #rockstar #D...            False   \n",
       "42365  RT @StylishRentals: Love this! \"Dragonfly Dese...             True   \n",
       "42366  RT @StylishRentals: Love this! \"Dragonfly Dese...             True   \n",
       "42367  RT @StylishRentals: Love this! \"Dragonfly Dese...             True   \n",
       "\n",
       "                                             TweetSource  \\\n",
       "42363  <a href=\"http://www.hootsuite.com\" rel=\"nofoll...   \n",
       "42364  <a href=\"http://www.facebook.com/twitter\" rel=...   \n",
       "42365  <a href=\"http://twitter.com\" rel=\"nofollow\">Tw...   \n",
       "42366  <a href=\"http://twitter.com\" rel=\"nofollow\">Tw...   \n",
       "42367  <a href=\"http://twitter.com\" rel=\"nofollow\">Tw...   \n",
       "\n",
       "       TweetInReplyToStatusID  TweetInReplyToUserID TweetInReplyToScreenName  \\\n",
       "42363                     NaN                   NaN                      NaN   \n",
       "42364                     NaN                   NaN                      NaN   \n",
       "42365                     NaN                   NaN                      NaN   \n",
       "42366                     NaN                   NaN                      NaN   \n",
       "42367                     NaN                   NaN                      NaN   \n",
       "\n",
       "       TweetRetweetCount  TweetFavoritesCount  \\\n",
       "42363                  0                    0   \n",
       "42364                  0                    0   \n",
       "42365               3043                    0   \n",
       "42366               3043                    0   \n",
       "42367               3043                    0   \n",
       "\n",
       "                                           TweetHashtags TweetPlaceID  \\\n",
       "42363                  BusinessInsider, Travel, Vacation          NaN   \n",
       "42364  rockstar, DedicatedTalent, actress, blogger, d...          NaN   \n",
       "42365                                             Travel          NaN   \n",
       "42366                                             Travel          NaN   \n",
       "42367                                             Travel          NaN   \n",
       "\n",
       "      TweetPlaceName TweetPlaceFullName TweetCountry TweetPlaceBoundingBox  \\\n",
       "42363            NaN                NaN          NaN                   NaN   \n",
       "42364            NaN                NaN          NaN                   NaN   \n",
       "42365            NaN                NaN          NaN                   NaN   \n",
       "42366            NaN                NaN          NaN                   NaN   \n",
       "42367            NaN                NaN          NaN                   NaN   \n",
       "\n",
       "       TweetPlaceAttributes  TweetPlaceContainedWithin              UserID  \\\n",
       "42363                   NaN                        NaN           103708562   \n",
       "42364                   NaN                        NaN          2807981322   \n",
       "42365                   NaN                        NaN  771487629477023744   \n",
       "42366                   NaN                        NaN  771758637652074496   \n",
       "42367                   NaN                        NaN  771752634306981892   \n",
       "\n",
       "               UserName   UserScreenName              UserLocation  \\\n",
       "42363     Andy Marcolin     AndyMarcolin  ÜT: 43.484417,-79.720563   \n",
       "42364  Dedicated Talent  DedicatedTalent               Los Angeles   \n",
       "42365   Raphael Cameron     FilatArtemev                       NaN   \n",
       "42366          Sky Choi  tekusaaleksand2                       NaN   \n",
       "42367   Brazil Harrison    AelitaFadeeva                       NaN   \n",
       "\n",
       "                                         UserDescription  \\\n",
       "42363  - Owner of - QB Sports and The Judge & Jury - ...   \n",
       "42364                     Talent | Literary | Production   \n",
       "42365  udemy instructor, author, marketeer, into tech...   \n",
       "42366  Keep track of your cryptocurrencies and genera...   \n",
       "42367  ETHEREUM Foundation, project  community/ecosys...   \n",
       "\n",
       "                      UserLink                              UserExpandedLink  \\\n",
       "42363   http://t.co/aUs1RvWTzE                    http://www.bostonmanor.ca/   \n",
       "42364  https://t.co/6g3HhXQBkh  https://pro-labs.imdb.com/company/co0499796/   \n",
       "42365                      NaN                                           NaN   \n",
       "42366                      NaN                                           NaN   \n",
       "42367                      NaN                                           NaN   \n",
       "\n",
       "       UserFollowersCount  UserFriendsCount  UserListedCount  \\\n",
       "42363                 537               170               90   \n",
       "42364                2635              1870              321   \n",
       "42365                  91                54               83   \n",
       "42366                  68                50               63   \n",
       "42367                 213                51               50   \n",
       "\n",
       "                       UserSignupDate  UserTweetCount  MacroIterationNumber  \\\n",
       "42363  Mon Jan 11 00:36:46 +0000 2010           22170                   449   \n",
       "42364  Sat Sep 13 19:18:55 +0000 2014           15266                   449   \n",
       "42365  Thu Sep 01 23:19:19 +0000 2016           23419                   449   \n",
       "42366  Fri Sep 02 17:16:12 +0000 2016           20737                   449   \n",
       "42367  Fri Sep 02 16:52:21 +0000 2016           23982                   449   \n",
       "\n",
       "      tweet.place  \n",
       "42363         NaN  \n",
       "42364         NaN  \n",
       "42365         NaN  \n",
       "42366         NaN  \n",
       "42367         NaN  "
      ]
     },
     "execution_count": 130,
     "metadata": {},
     "output_type": "execute_result"
    }
   ],
   "source": [
    "tweets.tail()"
   ]
  },
  {
   "cell_type": "code",
   "execution_count": 131,
   "metadata": {},
   "outputs": [
    {
     "name": "stdout",
     "output_type": "stream",
     "text": [
      "<class 'pandas.core.frame.DataFrame'>\n",
      "RangeIndex: 42368 entries, 0 to 42367\n",
      "Data columns (total 32 columns):\n",
      "TweetPostedTime              42368 non-null object\n",
      "TweetID                      42368 non-null int64\n",
      "TweetBody                    42368 non-null object\n",
      "TweetRetweetFlag             42368 non-null bool\n",
      "TweetSource                  42368 non-null object\n",
      "TweetInReplyToStatusID       101 non-null float64\n",
      "TweetInReplyToUserID         189 non-null float64\n",
      "TweetInReplyToScreenName     189 non-null object\n",
      "TweetRetweetCount            42368 non-null int64\n",
      "TweetFavoritesCount          42368 non-null int64\n",
      "TweetHashtags                42268 non-null object\n",
      "TweetPlaceID                 1000 non-null object\n",
      "TweetPlaceName               1000 non-null object\n",
      "TweetPlaceFullName           1000 non-null object\n",
      "TweetCountry                 999 non-null object\n",
      "TweetPlaceBoundingBox        1000 non-null object\n",
      "TweetPlaceAttributes         0 non-null float64\n",
      "TweetPlaceContainedWithin    0 non-null float64\n",
      "UserID                       42368 non-null int64\n",
      "UserName                     42368 non-null object\n",
      "UserScreenName               42368 non-null object\n",
      "UserLocation                 26342 non-null object\n",
      "UserDescription              38004 non-null object\n",
      "UserLink                     16599 non-null object\n",
      "UserExpandedLink             16562 non-null object\n",
      "UserFollowersCount           42368 non-null int64\n",
      "UserFriendsCount             42368 non-null int64\n",
      "UserListedCount              42368 non-null int64\n",
      "UserSignupDate               42368 non-null object\n",
      "UserTweetCount               42368 non-null int64\n",
      "MacroIterationNumber         42368 non-null int64\n",
      "tweet.place                  1000 non-null object\n",
      "dtypes: bool(1), float64(4), int64(9), object(18)\n",
      "memory usage: 10.1+ MB\n"
     ]
    }
   ],
   "source": [
    "tweets.info()"
   ]
  },
  {
   "cell_type": "markdown",
   "metadata": {},
   "source": [
    "Let's go through the columns and see how the data looks and if there are features that could potentially be good predictors:\n",
    "\n",
    "First our target:"
   ]
  },
  {
   "cell_type": "code",
   "execution_count": 132,
   "metadata": {},
   "outputs": [
    {
     "data": {
      "text/plain": [
       "count    42368.000000\n",
       "mean      1081.095402\n",
       "std       1432.473561\n",
       "min          0.000000\n",
       "25%          0.000000\n",
       "50%         14.000000\n",
       "75%       3069.000000\n",
       "max       4056.000000\n",
       "Name: TweetRetweetCount, dtype: float64"
      ]
     },
     "execution_count": 132,
     "metadata": {},
     "output_type": "execute_result"
    }
   ],
   "source": [
    "tweets.TweetRetweetCount.describe()"
   ]
  },
  {
   "cell_type": "code",
   "execution_count": 133,
   "metadata": {},
   "outputs": [
    {
     "data": {
      "image/png": "[encoded data removed]",
      "text/plain": [
       "<matplotlib.figure.Figure at 0x127f396d0>"
      ]
     },
     "metadata": {
      "image/png": {
       "height": 436,
       "width": 647
      }
     },
     "output_type": "display_data"
    }
   ],
   "source": [
    "plt.figure(figsize = (7, 5))\n",
    "tweets.TweetRetweetCount.plot(kind='hist', color='c', bins=10)\n",
    "plt.show()"
   ]
  },
  {
   "cell_type": "markdown",
   "metadata": {},
   "source": [
    "Notes:\n",
    "* mean 1081, stdev 1432, mode 14 - data is quite spread\n",
    "* bimodal histogram - two peaks: around 0 and around 3000 which can indicate most tweets are not retweeted but these that are have tendency of going viral\n",
    "\n",
    "Tweet posted time\n",
    "\n",
    "All tweets in the df are from the same day, just hour of posting differs. Let's extract the hour of tweets and see how the posting times are distributed."
   ]
  },
  {
   "cell_type": "code",
   "execution_count": 134,
   "metadata": {},
   "outputs": [],
   "source": [
    "tweets[\"PostHour\"] = tweets.TweetPostedTime.str[11:13]"
   ]
  },
  {
   "cell_type": "code",
   "execution_count": 204,
   "metadata": {},
   "outputs": [],
   "source": [
    "#TweetPostedTime is not needed anymore, let's add it to drop_list:\n",
    "drop_list = [\"TweetPostedTime\"]"
   ]
  },
  {
   "cell_type": "code",
   "execution_count": 136,
   "metadata": {},
   "outputs": [
    {
     "data": {
      "text/plain": [
       "0    10\n",
       "1    10\n",
       "2    10\n",
       "3    10\n",
       "4    10\n",
       "Name: PostHour, dtype: object"
      ]
     },
     "execution_count": 136,
     "metadata": {},
     "output_type": "execute_result"
    }
   ],
   "source": [
    "tweets[\"PostHour\"].head()"
   ]
  },
  {
   "cell_type": "code",
   "execution_count": 137,
   "metadata": {},
   "outputs": [
    {
     "data": {
      "image/png": "[encoded data removed]",
      "text/plain": [
       "<matplotlib.figure.Figure at 0x127f3bd50>"
      ]
     },
     "metadata": {
      "image/png": {
       "height": 380,
       "width": 546
      }
     },
     "output_type": "display_data"
    }
   ],
   "source": [
    "plt.figure(figsize = (6, 4))\n",
    "sns.countplot(x=\"PostHour\", data=tweets, color= '#800033')\n",
    "plt.show()"
   ]
  },
  {
   "cell_type": "code",
   "execution_count": 205,
   "metadata": {},
   "outputs": [],
   "source": [
    "#TweetID will not be needed:\n",
    "drop_list.append(\"TweetID\")"
   ]
  },
  {
   "cell_type": "markdown",
   "metadata": {},
   "source": [
    "TweetBody \n",
    "I don't have enough time to do full on text analysis but I can extract most common words from the body and use their presence (or absence) as the predictor."
   ]
  },
  {
   "cell_type": "code",
   "execution_count": 139,
   "metadata": {},
   "outputs": [
    {
     "name": "stdout",
     "output_type": "stream",
     "text": [
      "Most popular words in TweetBody column: [u'travel', u'stylishrentals', u'rt', u'beach', u'https']\n"
     ]
    }
   ],
   "source": [
    "\n",
    "# Find most common words in TweetBody column\n",
    "\n",
    "cnt_vect = CountVectorizer(binary=True, stop_words='english', max_features=5)\n",
    "D = cnt_vect.fit(tweets.TweetBody)\n",
    "common_words = D.vocabulary_.keys()\n",
    "print 'Most popular words in TweetBody column:', common_words"
   ]
  },
  {
   "cell_type": "code",
   "execution_count": 140,
   "metadata": {},
   "outputs": [
    {
     "data": {
      "text/plain": [
       "[u'travel', u'stylishrentals', u'beach']"
      ]
     },
     "execution_count": 140,
     "metadata": {},
     "output_type": "execute_result"
    }
   ],
   "source": [
    "# and https are not keywords per se, let's get rid of them\n",
    "common_words.remove('rt')\n",
    "common_words.remove('https')\n",
    "common_words"
   ]
  },
  {
   "cell_type": "code",
   "execution_count": 141,
   "metadata": {
    "collapsed": true
   },
   "outputs": [],
   "source": [
    "#however presence of 'https' ie link can have influence on retweeting value. Let's create new column\n",
    "tweets['LinkInBody'] = tweets.TweetBody.map(lambda x: 1 if 'https' in x else 0)"
   ]
  },
  {
   "cell_type": "code",
   "execution_count": 143,
   "metadata": {},
   "outputs": [
    {
     "data": {
      "text/plain": [
       "0    1\n",
       "1    1\n",
       "2    1\n",
       "3    1\n",
       "4    1\n",
       "Name: LinkInBody, dtype: int64"
      ]
     },
     "execution_count": 143,
     "metadata": {},
     "output_type": "execute_result"
    }
   ],
   "source": [
    "tweets.LinkInBody.head()"
   ]
  },
  {
   "cell_type": "code",
   "execution_count": 170,
   "metadata": {},
   "outputs": [],
   "source": [
    "#function to check if keywords are in tweet body\n",
    "\n",
    "def check_if_in_col(column_text):\n",
    "    for item in common_words:\n",
    "        if item in column_text:\n",
    "            return 1\n",
    "        else:\n",
    "            return 0\n",
    "\n",
    "tweets[\"PopularWordsBody\"] = tweets['TweetBody'].map(check_if_in_col)\n"
   ]
  },
  {
   "cell_type": "code",
   "execution_count": 125,
   "metadata": {},
   "outputs": [
    {
     "data": {
      "text/plain": [
       "0    1\n",
       "1    0\n",
       "2    1\n",
       "3    0\n",
       "4    0\n",
       "Name: PopularWordsBody, dtype: int64"
      ]
     },
     "execution_count": 125,
     "metadata": {},
     "output_type": "execute_result"
    }
   ],
   "source": [
    "tweets[\"PopularWordsBody\"].head()"
   ]
  },
  {
   "cell_type": "code",
   "execution_count": 207,
   "metadata": {
    "collapsed": true
   },
   "outputs": [],
   "source": [
    "#Drop body\n",
    "drop_list.append(\"TweetBody\")"
   ]
  },
  {
   "cell_type": "markdown",
   "metadata": {},
   "source": [
    "Next columns:\n",
    "\n",
    "* TweetRetweetFlag - boolean for whether tweet was retweeted or not. Doing similar thing as our target column - risk of collinearity - drop\n",
    "* TweetSource - all retwitted tweets have Twitter as a source - not much info here - drop\n",
    "* TweetInReplyToStatusID - too many nans - drop\n",
    "* TweetInReplyToUserID - too many nans - drop\n",
    "* TweetInReplyToScreenName - too many nans - drop\n"
   ]
  },
  {
   "cell_type": "code",
   "execution_count": 210,
   "metadata": {},
   "outputs": [],
   "source": [
    "drop_list.extend([\"TweetRetweetFlag\", \"TweetSource\", \"TweetInReplyToStatusID\", \"TweetInReplyToUserID\",\n",
    "                \"TweetInReplyToScreenName\"])"
   ]
  },
  {
   "cell_type": "markdown",
   "metadata": {},
   "source": [
    "TweetFavoritesCount - looks like potentially good predictor. Let's see:"
   ]
  },
  {
   "cell_type": "code",
   "execution_count": 146,
   "metadata": {},
   "outputs": [
    {
     "data": {
      "text/plain": [
       "count    42368.000000\n",
       "mean         0.805561\n",
       "std         37.214059\n",
       "min          0.000000\n",
       "25%          0.000000\n",
       "50%          0.000000\n",
       "75%          0.000000\n",
       "max       2813.000000\n",
       "Name: TweetFavoritesCount, dtype: float64"
      ]
     },
     "execution_count": 146,
     "metadata": {},
     "output_type": "execute_result"
    }
   ],
   "source": [
    "tweets.TweetFavoritesCount.describe()"
   ]
  },
  {
   "cell_type": "code",
   "execution_count": 156,
   "metadata": {},
   "outputs": [
    {
     "data": {
      "text/plain": [
       "0    38208\n",
       "1     2487\n",
       "2      765\n",
       "3      345\n",
       "4      154\n",
       "5       89\n",
       "6       50\n",
       "7       35\n",
       "8       25\n",
       "9       22\n",
       "Name: TweetFavoritesCount, dtype: int64"
      ]
     },
     "execution_count": 156,
     "metadata": {},
     "output_type": "execute_result"
    }
   ],
   "source": [
    "#uh-oh - the above indicates that huge majority of tweets has 0 favourtites. Let's see:\n",
    "tweets.TweetFavoritesCount.value_counts().head(10)"
   ]
  },
  {
   "cell_type": "code",
   "execution_count": null,
   "metadata": {
    "collapsed": true
   },
   "outputs": [],
   "source": [
    "#yes, that seems to be the case. Still maybe it will help us in our predicition. Let's leave it."
   ]
  },
  {
   "cell_type": "markdown",
   "metadata": {},
   "source": [
    "Hashtags:\n",
    "Let's do the same thing as in Body, but first there are some nan values to deal with:\n",
    "    "
   ]
  },
  {
   "cell_type": "code",
   "execution_count": 165,
   "metadata": {},
   "outputs": [
    {
     "data": {
      "text/plain": [
       "False    42268\n",
       "True       100\n",
       "Name: TweetHashtags, dtype: int64"
      ]
     },
     "execution_count": 165,
     "metadata": {},
     "output_type": "execute_result"
    }
   ],
   "source": [
    "tweets.TweetHashtags.isnull().value_counts()"
   ]
  },
  {
   "cell_type": "code",
   "execution_count": 166,
   "metadata": {
    "collapsed": true
   },
   "outputs": [],
   "source": [
    "#I will replace nans with string 'none' which would help with vectorizer later\n",
    "tweets.TweetHashtags.fillna('none', inplace=True)"
   ]
  },
  {
   "cell_type": "code",
   "execution_count": 168,
   "metadata": {},
   "outputs": [
    {
     "name": "stdout",
     "output_type": "stream",
     "text": [
      "Most popular words in TweetHastags column: [u'travel', u'israel', u'travelblogger', u'jerusalem', u'holiday']\n"
     ]
    }
   ],
   "source": [
    "H = cnt_vect.fit(tweets.TweetHashtags)\n",
    "common_words = H.vocabulary_.keys()\n",
    "print 'Most popular words in TweetHastags column:', common_words"
   ]
  },
  {
   "cell_type": "code",
   "execution_count": 171,
   "metadata": {},
   "outputs": [],
   "source": [
    "#Interesting. \n",
    "tweets[\"PopularWordsHashtag\"] = tweets['TweetHashtags'].map(check_if_in_col)\n"
   ]
  },
  {
   "cell_type": "code",
   "execution_count": 173,
   "metadata": {},
   "outputs": [
    {
     "data": {
      "text/plain": [
       "0    1\n",
       "1    0\n",
       "2    1\n",
       "3    0\n",
       "4    0\n",
       "Name: PopularWordsHashtag, dtype: int64"
      ]
     },
     "execution_count": 173,
     "metadata": {},
     "output_type": "execute_result"
    }
   ],
   "source": [
    "tweets[\"PopularWordsHashtag\"].head()"
   ]
  },
  {
   "cell_type": "markdown",
   "metadata": {},
   "source": [
    "Next:\n",
    "\n",
    "* TweetPlaceID                 1000 non-null object - Too much missing data - drop\n",
    "* TweetPlaceName               1000 non-null object - Too much missing data - drop\n",
    "* TweetPlaceFullName           1000 non-null object - Too much missing data - drop\n",
    "* TweetCountry                 999 non-null object - Too much missing data - drop\n",
    "* TweetPlaceBoundingBox        1000 non-null object - Too much missing data - drop\n",
    "* TweetPlaceAttributes         0 non-null float64 - Too much missing data - drop\n",
    "* TweetPlaceContainedWithin    0 non-null float64 - Too much missing data - drop\n",
    "* UserID                       42368 non-null int64 - No predictive value - drop\n",
    "\n"
   ]
  },
  {
   "cell_type": "code",
   "execution_count": 212,
   "metadata": {
    "collapsed": true
   },
   "outputs": [],
   "source": [
    "drop_list.extend([\"TweetPlaceID\", \"TweetPlaceName\", \"TweetPlaceFullName\", \"TweetCountry\",\n",
    "                \"TweetPlaceBoundingBox\", \"TweetPlaceAttributes\", \"TweetPlaceContainedWithin\", \"UserID\"])"
   ]
  },
  {
   "cell_type": "code",
   "execution_count": null,
   "metadata": {
    "collapsed": true
   },
   "outputs": [],
   "source": [
    "UserID                       42368 non-null int64\n",
    "UserName                     42368 non-null object\n",
    "UserScreenName               42368 non-null object\n",
    "UserLocation                 26342 non-null object\n",
    "UserDescription              38004 non-null object\n",
    "UserLink                     16599 non-null object\n",
    "UserExpandedLink             16562 non-null object\n",
    "UserFollowersCount           42368 non-null int64\n",
    "UserFriendsCount             42368 non-null int64\n",
    "UserListedCount              42368 non-null int64\n",
    "UserSignupDate               42368 non-null object\n",
    "UserTweetCount               42368 non-null int64"
   ]
  },
  {
   "cell_type": "code",
   "execution_count": 176,
   "metadata": {},
   "outputs": [
    {
     "data": {
      "text/plain": [
       "0         CjQenterprises\n",
       "1                 monica\n",
       "2           Paula Schuck\n",
       "3       Primal Sanctuary\n",
       "4                    Joe\n",
       "5                    Rey\n",
       "6    The Quirky wanderer\n",
       "7         Hayley Preston\n",
       "8         ibrahim keklik\n",
       "9          Whiskey About\n",
       "Name: UserName, dtype: object"
      ]
     },
     "execution_count": 176,
     "metadata": {},
     "output_type": "execute_result"
    }
   ],
   "source": [
    "#UserName\n",
    "\n",
    "tweets.UserName.head(10)"
   ]
  },
  {
   "cell_type": "code",
   "execution_count": 179,
   "metadata": {},
   "outputs": [],
   "source": [
    "#I dont think these are meaningful -  drop \n",
    "\n",
    "tweets.drop(\"UserName\", axis =1, inplace=True)"
   ]
  },
  {
   "cell_type": "code",
   "execution_count": 180,
   "metadata": {},
   "outputs": [
    {
     "data": {
      "text/plain": [
       "0     CjQenterprises\n",
       "1           mama0004\n",
       "2          inkscrblr\n",
       "3    primalsanctuary\n",
       "4    biryukovasever2\n",
       "5     GerasimovArvid\n",
       "6         DivsiGupta\n",
       "7    guramponomarev5\n",
       "8           gnkeklik\n",
       "9     whiskeyaboutlb\n",
       "Name: UserScreenName, dtype: object"
      ]
     },
     "execution_count": 180,
     "metadata": {},
     "output_type": "execute_result"
    }
   ],
   "source": [
    "#UserScreenName\n",
    "tweets.UserScreenName.head(10)"
   ]
  },
  {
   "cell_type": "code",
   "execution_count": null,
   "metadata": {
    "collapsed": true
   },
   "outputs": [],
   "source": [
    "#As above - drop\n",
    "\n",
    "tweets.drop(\"UserScreenName\", axis =1, inplace=True)"
   ]
  },
  {
   "cell_type": "code",
   "execution_count": 181,
   "metadata": {
    "collapsed": true
   },
   "outputs": [],
   "source": [
    "#User location - 1/3 data is missing. too much for meaningful imputation - drop\n",
    "tweets.drop(\"UserLocation\", axis =1, inplace=True)"
   ]
  },
  {
   "cell_type": "code",
   "execution_count": 182,
   "metadata": {},
   "outputs": [
    {
     "data": {
      "text/plain": [
       "False    38004\n",
       "True      4364\n",
       "Name: UserDescription, dtype: int64"
      ]
     },
     "execution_count": 182,
     "metadata": {},
     "output_type": "execute_result"
    }
   ],
   "source": [
    "#User description - let's do common words here too:\n",
    "tweets.UserDescription.isnull().value_counts()\n"
   ]
  },
  {
   "cell_type": "code",
   "execution_count": 183,
   "metadata": {
    "collapsed": true
   },
   "outputs": [],
   "source": [
    "tweets.UserDescription.fillna('none', inplace=True)"
   ]
  },
  {
   "cell_type": "code",
   "execution_count": 184,
   "metadata": {},
   "outputs": [
    {
     "name": "stdout",
     "output_type": "stream",
     "text": [
      "Most popular words in TweetHastags column: [u'travel', u'world', u'life', u'love', u'https']\n"
     ]
    }
   ],
   "source": [
    "U = cnt_vect.fit(tweets.UserDescription)\n",
    "common_words = U.vocabulary_.keys()\n",
    "print 'Most popular words in TweetHastags column:', common_words"
   ]
  },
  {
   "cell_type": "code",
   "execution_count": 185,
   "metadata": {
    "collapsed": true
   },
   "outputs": [],
   "source": [
    "tweets[\"PopularWordsDescr\"] = tweets['UserDescription'].map(check_if_in_col)\n"
   ]
  },
  {
   "cell_type": "code",
   "execution_count": 186,
   "metadata": {},
   "outputs": [
    {
     "data": {
      "text/plain": [
       "0    0\n",
       "1    0\n",
       "2    0\n",
       "3    1\n",
       "4    0\n",
       "Name: PopularWordsDescr, dtype: int64"
      ]
     },
     "execution_count": 186,
     "metadata": {},
     "output_type": "execute_result"
    }
   ],
   "source": [
    "tweets[\"PopularWordsDescr\"].head()"
   ]
  },
  {
   "cell_type": "markdown",
   "metadata": {},
   "source": [
    "Next:\n",
    "\n",
    "* UserLink                     16599 non-null object -  Too much missing data - drop\n",
    "* UserExpandedLink             16562 non-null object -  Too much missing data - drop"
   ]
  },
  {
   "cell_type": "code",
   "execution_count": 187,
   "metadata": {
    "collapsed": true
   },
   "outputs": [],
   "source": [
    "tweets.drop(\"UserLink\", axis =1, inplace=True)\n",
    "tweets.drop(\"UserExpandedLink\", axis =1, inplace=True)"
   ]
  },
  {
   "cell_type": "markdown",
   "metadata": {},
   "source": [
    "Next:\n",
    "\n",
    "* UserFollowersCount           42368 non-null int64\n",
    "* UserFriendsCount             42368 non-null int64\n",
    "* UserListedCount              42368 non-null int64\n",
    "* UserTweetCount               42368 non-null int64\n",
    "\n",
    "Numerical columns and perhaps good predictors? Lets look closer:\n",
    "\n",
    "\n",
    "http://www.wikinomics.com/blog/index.php/2009/11/23/twitter-popularity-follower-vs-list-counts/"
   ]
  },
  {
   "cell_type": "code",
   "execution_count": 189,
   "metadata": {},
   "outputs": [
    {
     "data": {
      "text/plain": [
       "0     6334\n",
       "1      154\n",
       "2    23433\n",
       "3    11136\n",
       "4       55\n",
       "Name: UserFollowersCount, dtype: int64"
      ]
     },
     "execution_count": 189,
     "metadata": {},
     "output_type": "execute_result"
    }
   ],
   "source": [
    "tweets.UserFollowersCount.head()"
   ]
  },
  {
   "cell_type": "code",
   "execution_count": 199,
   "metadata": {},
   "outputs": [
    {
     "data": {
      "text/plain": [
       "count     42368.00\n",
       "mean       6197.00\n",
       "std       56200.06\n",
       "min           0.00\n",
       "25%          40.00\n",
       "50%         149.00\n",
       "75%        1819.25\n",
       "max     4572706.00\n",
       "Name: UserFollowersCount, dtype: float64"
      ]
     },
     "execution_count": 199,
     "metadata": {},
     "output_type": "execute_result"
    }
   ],
   "source": [
    "tweets.UserFollowersCount.describe()"
   ]
  },
  {
   "cell_type": "code",
   "execution_count": 201,
   "metadata": {},
   "outputs": [
    {
     "data": {
      "text/plain": [
       "4108     4572706\n",
       "1722     4572706\n",
       "29717    4572671\n",
       "22562    4572666\n",
       "18732    4572661\n",
       "36161     820455\n",
       "26511     820455\n",
       "31772     747595\n",
       "41304     741864\n",
       "27508     673414\n",
       "11382     673414\n",
       "6219      673414\n",
       "467       673413\n",
       "4636      673413\n",
       "33537     623525\n",
       "Name: UserFollowersCount, dtype: int64"
      ]
     },
     "execution_count": 201,
     "metadata": {},
     "output_type": "execute_result"
    }
   ],
   "source": [
    "#Huge stdev perhaps influenced by the large max value? Let's sort the values and see:\n",
    "tweets.UserFollowersCount.sort_values(ascending=False).head(15)\n"
   ]
  },
  {
   "cell_type": "code",
   "execution_count": null,
   "metadata": {
    "collapsed": true
   },
   "outputs": [],
   "source": [
    "There seem to be 5 very huge outliers. Also suspicious same large numbers - is it the same user?"
   ]
  }
 ],
 "metadata": {
  "anaconda-cloud": {},
  "kernelspec": {
   "display_name": "Python [default]",
   "language": "python",
   "name": "python2"
  },
  "language_info": {
   "codemirror_mode": {
    "name": "ipython",
    "version": 2
   },
   "file_extension": ".py",
   "mimetype": "text/x-python",
   "name": "python",
   "nbconvert_exporter": "python",
   "pygments_lexer": "ipython2",
   "version": "2.7.12"
  }
 },
 "nbformat": 4,
 "nbformat_minor": 1
}
